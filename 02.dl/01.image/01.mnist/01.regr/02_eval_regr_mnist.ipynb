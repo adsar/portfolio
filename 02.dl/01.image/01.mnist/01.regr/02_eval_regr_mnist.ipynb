{
 "cells": [
  {
   "cell_type": "markdown",
   "metadata": {},
   "source": [
    "# Evaluate a Multinomial Logistic Classifier on the MNIST test set\n",
    "\n",
    "This notebook shows how to load a previously trained model and use it to predict the labels of the MNIST test images.\n",
    "\n",
    "Inputs:\n",
    " - Data: MNIST test dataset (image and true label)\n",
    " - Coefficients: tensors W and b leaded from a file saved by the training process.\n",
    "\n",
    "\n",
    "Outputs:\n",
    " - Accuracy: quality of fit of the model over all the test set.\n",
    " - Error example: an image where the classifier makes a mistake (predicts the wrong label)"
   ]
  },
  {
   "cell_type": "code",
   "execution_count": 1,
   "metadata": {
    "collapsed": false
   },
   "outputs": [
    {
     "name": "stderr",
     "output_type": "stream",
     "text": [
      "/home/adrian/anaconda2/envs/deep/lib/python2.7/site-packages/matplotlib/font_manager.py:273: UserWarning: Matplotlib is building the font cache using fc-list. This may take a moment.\n",
      "  warnings.warn('Matplotlib is building the font cache using fc-list. This may take a moment.')\n"
     ]
    }
   ],
   "source": [
    "%matplotlib inline\n",
    "import matplotlib\n",
    "import numpy as np\n",
    "import matplotlib.pyplot as plt"
   ]
  },
  {
   "cell_type": "markdown",
   "metadata": {},
   "source": [
    "### Data Preparation\n",
    "\n",
    "Below, we read the test dataset and define functions to preprocess or visualize the images."
   ]
  },
  {
   "cell_type": "code",
   "execution_count": 2,
   "metadata": {
    "collapsed": false
   },
   "outputs": [
    {
     "name": "stdout",
     "output_type": "stream",
     "text": [
      "Extracting MNIST_data/train-images-idx3-ubyte.gz\n",
      "Extracting MNIST_data/train-labels-idx1-ubyte.gz\n",
      "Extracting MNIST_data/t10k-images-idx3-ubyte.gz\n",
      "Extracting MNIST_data/t10k-labels-idx1-ubyte.gz\n"
     ]
    }
   ],
   "source": [
    "# data\n",
    "from tensorflow.examples.tutorials.mnist import input_data\n",
    "mnist = input_data.read_data_sets(\"MNIST_data/\", one_hot=True)"
   ]
  },
  {
   "cell_type": "code",
   "execution_count": 3,
   "metadata": {
    "collapsed": false
   },
   "outputs": [],
   "source": [
    "def get_mnist_image(ds):\n",
    "    \"\"\"\n",
    "    Choose an image at random from the image dataset passed as parameter\n",
    "    :param ds: dataset class (from MNIST input_data)\n",
    "    :return ndarray [28, 28]\n",
    "    \"\"\"\n",
    "    observation, label = ds.next_batch(1)\n",
    "    return observation, label"
   ]
  },
  {
   "cell_type": "code",
   "execution_count": 4,
   "metadata": {
    "collapsed": false
   },
   "outputs": [],
   "source": [
    "def show_mnist_image(observation):\n",
    "    image = observation[0].reshape(28, 28)\n",
    "    #print observation[0].shape, image.shape    \n",
    "    fig = plt.figure()\n",
    "    ax = fig.add_subplot(1,1,1)\n",
    "    imgplot = ax.imshow(image, cmap=matplotlib.cm.Greys)"
   ]
  },
  {
   "cell_type": "markdown",
   "metadata": {},
   "source": [
    "### Model Definition\n",
    "The model is a basic multinomial logistic classifier, consisting of a linear matrix multiply and a softmax.\n",
    "In this notebook we only need the prediction part of the model, so there is no need to define a loss function."
   ]
  },
  {
   "cell_type": "code",
   "execution_count": 5,
   "metadata": {
    "collapsed": false
   },
   "outputs": [],
   "source": [
    "import tensorflow as tf\n",
    "# Declare tensors to hold the model coefficients\n",
    "W = tf.Variable(tf.zeros([784, 10]), name=\"W\")\n",
    "b = tf.Variable(tf.zeros([10]), name=\"b\")\n",
    "\n",
    "# Define the prediction formulas\n",
    "x = tf.placeholder(tf.float32, [None, 784])\n",
    "scores = tf.matmul(x, W) + b\n",
    "y = tf.nn.softmax(scores)"
   ]
  },
  {
   "cell_type": "markdown",
   "metadata": {},
   "source": [
    "#### Restore previously trained coefficients  and predict a randomly chosen digit from the test set\n",
    " - Restore all of session's variabls (tensors) back to a previous checkpoint.\n",
    " - Verify the accuracy of the coefficients loaded on the test data, we want 90% or more"
   ]
  },
  {
   "cell_type": "code",
   "execution_count": 6,
   "metadata": {
    "collapsed": true
   },
   "outputs": [],
   "source": [
    "modelpath = \"model/train/\"\n",
    "\n",
    "def restore_model(sess, modelpath):\n",
    "    saver = tf.train.Saver()\n",
    "    ckpt = tf.train.get_checkpoint_state(modelpath)\n",
    "    if ckpt and ckpt.model_checkpoint_path:\n",
    "      # Restores from checkpoint\n",
    "      saver.restore(sess, ckpt.model_checkpoint_path)\n",
    "      print \"Model loaded\"\n",
    "    else:\n",
    "      print \"No checkpoint file found\""
   ]
  },
  {
   "cell_type": "code",
   "execution_count": 7,
   "metadata": {
    "collapsed": false
   },
   "outputs": [
    {
     "name": "stdout",
     "output_type": "stream",
     "text": [
      "Model loaded\n",
      "Trained model accuracy on test data: 0.9245\n",
      "\n"
     ]
    }
   ],
   "source": [
    "init = tf.initialize_all_variables()\n",
    "sess = tf.Session()\n",
    "sess.run(init)\n",
    "\n",
    "saver = tf.train.Saver()\n",
    "restore_model(sess, modelpath)\n",
    "\n",
    "y_ = tf.placeholder(tf.float32, [None, 10])\n",
    "correct_prediction = tf.equal(tf.argmax(y,1), tf.argmax(y_,1))\n",
    "accuracy = tf.reduce_mean(tf.cast(correct_prediction, tf.float32))\n",
    "print(\"Trained model accuracy on test data: %g\\n\" % \n",
    "      sess.run(accuracy, feed_dict={x: mnist.test.images, y_: mnist.test.labels}))"
   ]
  },
  {
   "cell_type": "markdown",
   "metadata": {},
   "source": [
    "#### Predict digits from the test set\n",
    " - Randomply pick an image from the dataset and predict its label\n",
    " - Repeat until the classifier makes a mistake\n",
    " - Show labels and test image for the first classification error found"
   ]
  },
  {
   "cell_type": "code",
   "execution_count": 8,
   "metadata": {
    "collapsed": false
   },
   "outputs": [
    {
     "name": "stdout",
     "output_type": "stream",
     "text": [
      "Correct predictions:  259\n",
      "\n",
      "Predicted Label: [1.0, 0.0, 0.0, 0.0, 0.0, 0.0, 0.0, 0.0, 0.0, 0.0]\n",
      "Actual Label: [ 0.  0.  0.  0.  0.  0.  1.  0.  0.  0.]\n",
      "Cross Entropy: 6.79983\n"
     ]
    },
    {
     "data": {
      "image/png": "[encoded data removed]",
      "text/plain": [
       "<matplotlib.figure.Figure at 0x7ff0711486d0>"
      ]
     },
     "metadata": {},
     "output_type": "display_data"
    }
   ],
   "source": [
    "# Define a quality metric to be applied to the predictions \n",
    "cross_entropy = -tf.reduce_sum(y_ * tf.log(y))\n",
    "\n",
    "for k in range(500):\n",
    "    observation, label = get_mnist_image(mnist.test)\n",
    "    pred_label = [round(i) for i in sess.run(y, feed_dict={x: observation})[0]]\n",
    "    missmatch = False\n",
    "    for i in range(len(label)):\n",
    "        if label[0][i] != pred_label[i]:\n",
    "            missmatch = True\n",
    "            break\n",
    "    if missmatch:\n",
    "        print \"Correct predictions: \", k\n",
    "        print\n",
    "        if sum(pred_label) == 0:\n",
    "            print \"Scores:\", [\"%0.2f\" % s for s in sess.run(scores, feed_dict={x: observation})[0]]\n",
    "        print \"Predicted Label:\", pred_label\n",
    "        print \"Actual Label:\",  label[0]\n",
    "        print \"Cross Entropy:\",  sess.run(cross_entropy, feed_dict={y_: label, x: observation})\n",
    "        show_mnist_image(observation)\n",
    "        break"
   ]
  },
  {
   "cell_type": "code",
   "execution_count": 9,
   "metadata": {
    "collapsed": true
   },
   "outputs": [],
   "source": [
    "sess.close()"
   ]
  }
 ],
 "metadata": {
  "kernelspec": {
   "display_name": "Python 2",
   "language": "python",
   "name": "python2"
  },
  "language_info": {
   "codemirror_mode": {
    "name": "ipython",
    "version": 2
   },
   "file_extension": ".py",
   "mimetype": "text/x-python",
   "name": "python",
   "nbconvert_exporter": "python",
   "pygments_lexer": "ipython2",
   "version": "2.7.11"
  }
 },
 "nbformat": 4,
 "nbformat_minor": 0
}
